{
  "nbformat": 4,
  "nbformat_minor": 0,
  "metadata": {
    "colab": {
      "name": "x.ipynb",
      "provenance": [],
      "collapsed_sections": [],
      "include_colab_link": true
    },
    "kernelspec": {
      "name": "python3",
      "display_name": "Python 3"
    }
  },
  "cells": [
    {
      "cell_type": "markdown",
      "metadata": {
        "id": "view-in-github",
        "colab_type": "text"
      },
      "source": [
        "<a href=\"https://colab.research.google.com/github/lokesh31333/Python/blob/master/x.ipynb\" target=\"_parent\"><img src=\"https://colab.research.google.com/assets/colab-badge.svg\" alt=\"Open In Colab\"/></a>"
      ]
    },
    {
      "cell_type": "code",
      "metadata": {
        "id": "zlwP_tfS-haa"
      },
      "source": [
        "import pandas as pd\n",
        "from matplotlib import pyplot as plt\n",
        "\n"
      ],
      "execution_count": 2,
      "outputs": []
    },
    {
      "cell_type": "code",
      "metadata": {
        "id": "r1VIhWsG-7CB"
      },
      "source": [
        "excel_file = 'x.xlsx'\n",
        "tocode = pd.read_excel(excel_file)\n",
        "# opening Excel File"
      ],
      "execution_count": 4,
      "outputs": []
    },
    {
      "cell_type": "code",
      "metadata": {
        "id": "bhNg-3wv_FUm",
        "colab": {
          "base_uri": "https://localhost:8080/",
          "height": 758
        },
        "outputId": "d53ed7d6-6d8d-4a9d-862f-88bc0cb15bb1"
      },
      "source": [
        "tocode"
      ],
      "execution_count": 6,
      "outputs": [
        {
          "output_type": "execute_result",
          "data": {
            "text/html": [
              "<div>\n",
              "<style scoped>\n",
              "    .dataframe tbody tr th:only-of-type {\n",
              "        vertical-align: middle;\n",
              "    }\n",
              "\n",
              "    .dataframe tbody tr th {\n",
              "        vertical-align: top;\n",
              "    }\n",
              "\n",
              "    .dataframe thead th {\n",
              "        text-align: right;\n",
              "    }\n",
              "</style>\n",
              "<table border=\"1\" class=\"dataframe\">\n",
              "  <thead>\n",
              "    <tr style=\"text-align: right;\">\n",
              "      <th></th>\n",
              "      <th>SaaS_ID</th>\n",
              "      <th>Availability</th>\n",
              "      <th>Reliability</th>\n",
              "      <th>Cost($)</th>\n",
              "      <th>Response Time(ms)</th>\n",
              "    </tr>\n",
              "  </thead>\n",
              "  <tbody>\n",
              "    <tr>\n",
              "      <th>0</th>\n",
              "      <td>SP1</td>\n",
              "      <td>0.99988</td>\n",
              "      <td>0.99950</td>\n",
              "      <td>0.322</td>\n",
              "      <td>0.6</td>\n",
              "    </tr>\n",
              "    <tr>\n",
              "      <th>1</th>\n",
              "      <td>SP2</td>\n",
              "      <td>0.99968</td>\n",
              "      <td>0.99953</td>\n",
              "      <td>0.762</td>\n",
              "      <td>0.2</td>\n",
              "    </tr>\n",
              "    <tr>\n",
              "      <th>2</th>\n",
              "      <td>SP3</td>\n",
              "      <td>0.99935</td>\n",
              "      <td>0.99962</td>\n",
              "      <td>0.168</td>\n",
              "      <td>0.3</td>\n",
              "    </tr>\n",
              "    <tr>\n",
              "      <th>3</th>\n",
              "      <td>SP4</td>\n",
              "      <td>0.99988</td>\n",
              "      <td>0.99964</td>\n",
              "      <td>0.804</td>\n",
              "      <td>0.3</td>\n",
              "    </tr>\n",
              "    <tr>\n",
              "      <th>4</th>\n",
              "      <td>SP5</td>\n",
              "      <td>0.99959</td>\n",
              "      <td>0.99954</td>\n",
              "      <td>0.252</td>\n",
              "      <td>0.4</td>\n",
              "    </tr>\n",
              "    <tr>\n",
              "      <th>5</th>\n",
              "      <td>SP6</td>\n",
              "      <td>0.99963</td>\n",
              "      <td>0.99958</td>\n",
              "      <td>0.444</td>\n",
              "      <td>0.6</td>\n",
              "    </tr>\n",
              "    <tr>\n",
              "      <th>6</th>\n",
              "      <td>SP7</td>\n",
              "      <td>0.99939</td>\n",
              "      <td>0.99971</td>\n",
              "      <td>0.664</td>\n",
              "      <td>0.7</td>\n",
              "    </tr>\n",
              "    <tr>\n",
              "      <th>7</th>\n",
              "      <td>SP8</td>\n",
              "      <td>0.99918</td>\n",
              "      <td>0.99975</td>\n",
              "      <td>0.506</td>\n",
              "      <td>0.2</td>\n",
              "    </tr>\n",
              "    <tr>\n",
              "      <th>8</th>\n",
              "      <td>SP9</td>\n",
              "      <td>0.99995</td>\n",
              "      <td>0.99990</td>\n",
              "      <td>0.616</td>\n",
              "      <td>0.7</td>\n",
              "    </tr>\n",
              "    <tr>\n",
              "      <th>9</th>\n",
              "      <td>SP10</td>\n",
              "      <td>0.99958</td>\n",
              "      <td>0.99956</td>\n",
              "      <td>0.484</td>\n",
              "      <td>0.3</td>\n",
              "    </tr>\n",
              "    <tr>\n",
              "      <th>10</th>\n",
              "      <td>SP11</td>\n",
              "      <td>0.99945</td>\n",
              "      <td>0.99971</td>\n",
              "      <td>0.456</td>\n",
              "      <td>0.7</td>\n",
              "    </tr>\n",
              "    <tr>\n",
              "      <th>11</th>\n",
              "      <td>SP12</td>\n",
              "      <td>0.99981</td>\n",
              "      <td>0.99976</td>\n",
              "      <td>0.134</td>\n",
              "      <td>0.7</td>\n",
              "    </tr>\n",
              "    <tr>\n",
              "      <th>12</th>\n",
              "      <td>SP13</td>\n",
              "      <td>0.99911</td>\n",
              "      <td>0.99987</td>\n",
              "      <td>0.300</td>\n",
              "      <td>0.3</td>\n",
              "    </tr>\n",
              "    <tr>\n",
              "      <th>13</th>\n",
              "      <td>SP14</td>\n",
              "      <td>0.99924</td>\n",
              "      <td>0.99983</td>\n",
              "      <td>0.234</td>\n",
              "      <td>0.5</td>\n",
              "    </tr>\n",
              "    <tr>\n",
              "      <th>14</th>\n",
              "      <td>SP15</td>\n",
              "      <td>0.99912</td>\n",
              "      <td>0.99980</td>\n",
              "      <td>0.496</td>\n",
              "      <td>0.5</td>\n",
              "    </tr>\n",
              "    <tr>\n",
              "      <th>15</th>\n",
              "      <td>SP16</td>\n",
              "      <td>0.99948</td>\n",
              "      <td>0.99973</td>\n",
              "      <td>0.454</td>\n",
              "      <td>0.3</td>\n",
              "    </tr>\n",
              "    <tr>\n",
              "      <th>16</th>\n",
              "      <td>SP17</td>\n",
              "      <td>0.99952</td>\n",
              "      <td>0.99967</td>\n",
              "      <td>0.638</td>\n",
              "      <td>0.5</td>\n",
              "    </tr>\n",
              "    <tr>\n",
              "      <th>17</th>\n",
              "      <td>SP18</td>\n",
              "      <td>0.99999</td>\n",
              "      <td>0.99962</td>\n",
              "      <td>0.478</td>\n",
              "      <td>0.2</td>\n",
              "    </tr>\n",
              "    <tr>\n",
              "      <th>18</th>\n",
              "      <td>SP19</td>\n",
              "      <td>0.99944</td>\n",
              "      <td>0.99975</td>\n",
              "      <td>0.674</td>\n",
              "      <td>0.3</td>\n",
              "    </tr>\n",
              "    <tr>\n",
              "      <th>19</th>\n",
              "      <td>SP20</td>\n",
              "      <td>0.99943</td>\n",
              "      <td>0.99972</td>\n",
              "      <td>0.414</td>\n",
              "      <td>0.5</td>\n",
              "    </tr>\n",
              "    <tr>\n",
              "      <th>20</th>\n",
              "      <td>SP21</td>\n",
              "      <td>0.99987</td>\n",
              "      <td>0.99957</td>\n",
              "      <td>0.392</td>\n",
              "      <td>0.5</td>\n",
              "    </tr>\n",
              "    <tr>\n",
              "      <th>21</th>\n",
              "      <td>SP22</td>\n",
              "      <td>0.99959</td>\n",
              "      <td>0.99977</td>\n",
              "      <td>0.544</td>\n",
              "      <td>0.2</td>\n",
              "    </tr>\n",
              "    <tr>\n",
              "      <th>22</th>\n",
              "      <td>SP23</td>\n",
              "      <td>0.99970</td>\n",
              "      <td>0.99952</td>\n",
              "      <td>0.408</td>\n",
              "      <td>0.4</td>\n",
              "    </tr>\n",
              "    <tr>\n",
              "      <th>23</th>\n",
              "      <td>SP24</td>\n",
              "      <td>0.99999</td>\n",
              "      <td>0.99992</td>\n",
              "      <td>0.508</td>\n",
              "      <td>0.5</td>\n",
              "    </tr>\n",
              "  </tbody>\n",
              "</table>\n",
              "</div>"
            ],
            "text/plain": [
              "   SaaS_ID  Availability  Reliability  Cost($)  Response Time(ms)\n",
              "0      SP1       0.99988      0.99950    0.322                0.6\n",
              "1      SP2       0.99968      0.99953    0.762                0.2\n",
              "2      SP3       0.99935      0.99962    0.168                0.3\n",
              "3      SP4       0.99988      0.99964    0.804                0.3\n",
              "4      SP5       0.99959      0.99954    0.252                0.4\n",
              "5      SP6       0.99963      0.99958    0.444                0.6\n",
              "6      SP7       0.99939      0.99971    0.664                0.7\n",
              "7      SP8       0.99918      0.99975    0.506                0.2\n",
              "8      SP9       0.99995      0.99990    0.616                0.7\n",
              "9     SP10       0.99958      0.99956    0.484                0.3\n",
              "10    SP11       0.99945      0.99971    0.456                0.7\n",
              "11    SP12       0.99981      0.99976    0.134                0.7\n",
              "12    SP13       0.99911      0.99987    0.300                0.3\n",
              "13    SP14       0.99924      0.99983    0.234                0.5\n",
              "14    SP15       0.99912      0.99980    0.496                0.5\n",
              "15    SP16       0.99948      0.99973    0.454                0.3\n",
              "16    SP17       0.99952      0.99967    0.638                0.5\n",
              "17    SP18       0.99999      0.99962    0.478                0.2\n",
              "18    SP19       0.99944      0.99975    0.674                0.3\n",
              "19    SP20       0.99943      0.99972    0.414                0.5\n",
              "20    SP21       0.99987      0.99957    0.392                0.5\n",
              "21    SP22       0.99959      0.99977    0.544                0.2\n",
              "22    SP23       0.99970      0.99952    0.408                0.4\n",
              "23    SP24       0.99999      0.99992    0.508                0.5"
            ]
          },
          "metadata": {
            "tags": []
          },
          "execution_count": 6
        }
      ]
    },
    {
      "cell_type": "code",
      "metadata": {
        "id": "Y1vA3Dc3AHcV"
      },
      "source": [
        "avail_maxi = tocode[\"Availability\"].max()\n",
        "avail_mini = tocode[\"Availability\"].min()\n",
        "avail_diff = round(avail_maxi - avail_mini,5)\n",
        "#Caliculating Maximum,Minimum,Diffrence for Availability"
      ],
      "execution_count": 7,
      "outputs": []
    },
    {
      "cell_type": "code",
      "metadata": {
        "id": "9oPm735xCnNo",
        "colab": {
          "base_uri": "https://localhost:8080/"
        },
        "outputId": "3e8979e4-4c49-4a85-916a-de71a13dc517"
      },
      "source": [
        "\n",
        "#Use this if you want to \n",
        "print(\"Maximum Value of Availability is : \"+str(avail_maxi))\n",
        "print(\"Minimum  Value of Availability is : \"+str(avail_mini))\n",
        "print(\"Differrence Value of Availability is : \"+str(avail_diff))\n",
        "#Printing Maximum,Minimum,Diffrence for Availability"
      ],
      "execution_count": 8,
      "outputs": [
        {
          "output_type": "stream",
          "text": [
            "Maximum Value of Availability is : 0.99999\n",
            "Minimum  Value of Availability is : 0.99911\n",
            "Differrence Value of Availability is : 0.00088\n"
          ],
          "name": "stdout"
        }
      ]
    },
    {
      "cell_type": "code",
      "metadata": {
        "id": "lupljyzTDxz9"
      },
      "source": [
        "relia_maxi = tocode[\"Reliability\"].max()\n",
        "relia_mini = tocode[\"Reliability\"].min()\n",
        "relia_diff = round(relia_maxi - relia_mini,5)\n",
        "#Caliculating Maximum,Minimum,Diffrence for Reliability"
      ],
      "execution_count": 9,
      "outputs": []
    },
    {
      "cell_type": "code",
      "metadata": {
        "id": "_iGa1UiYDzW5",
        "colab": {
          "base_uri": "https://localhost:8080/"
        },
        "outputId": "2a430715-2880-4f25-dfd9-49aab2e7b3f0"
      },
      "source": [
        "print(\"Maximum Value of Reliability is : \"+str(relia_maxi))\n",
        "print(\"Minimum  Value of Reliability is : \"+str(relia_mini))\n",
        "print(\"Differrence Value of Reliability is : \"+str(relia_diff))\n"
      ],
      "execution_count": 10,
      "outputs": [
        {
          "output_type": "stream",
          "text": [
            "Maximum Value of Reliability is : 0.99992\n",
            "Minimum  Value of Reliability is : 0.9995\n",
            "Differrence Value of Reliability is : 0.00042\n"
          ],
          "name": "stdout"
        }
      ]
    },
    {
      "cell_type": "code",
      "metadata": {
        "id": "fe7vr4ymEgY2"
      },
      "source": [
        "cost_maxi = tocode[\"Cost($)\"].max()\n",
        "cost_mini = tocode[\"Cost($)\"].min()\n",
        "cost_diff = round(cost_maxi - cost_mini,5)\n",
        "#Caliculating Maximum,Minimum,Diffrence for Cost($)"
      ],
      "execution_count": 11,
      "outputs": []
    },
    {
      "cell_type": "code",
      "metadata": {
        "id": "mK2PwtqOEiS_",
        "colab": {
          "base_uri": "https://localhost:8080/"
        },
        "outputId": "058bc10d-82a9-4b07-b542-f4bfc0f9ea42"
      },
      "source": [
        "print(\"Maximum Value of Cost($) is : \"+str(cost_maxi))\n",
        "print(\"Minimum  Value of Cost($) is : \"+str(cost_mini))\n",
        "print(\"Differrence Value of Cost($) is : \"+str(cost_diff))"
      ],
      "execution_count": 12,
      "outputs": [
        {
          "output_type": "stream",
          "text": [
            "Maximum Value of Cost($) is : 0.804\n",
            "Minimum  Value of Cost($) is : 0.134\n",
            "Differrence Value of Cost($) is : 0.67\n"
          ],
          "name": "stdout"
        }
      ]
    },
    {
      "cell_type": "code",
      "metadata": {
        "id": "UjT2TlMjFMrW"
      },
      "source": [
        "response_maxi = tocode[\"Response Time(ms)\"].max()\n",
        "response_mini = tocode[\"Response Time(ms)\"].min()\n",
        "response_diff = round(response_maxi - response_mini,1)\n",
        "#Caliculating Maximum,Minimum,Diffrence for ResponseTime(ms)"
      ],
      "execution_count": 13,
      "outputs": []
    },
    {
      "cell_type": "code",
      "metadata": {
        "id": "emZapndJFOjK",
        "colab": {
          "base_uri": "https://localhost:8080/"
        },
        "outputId": "3eb3526a-2eb2-4fd9-e344-26f32ab6389e"
      },
      "source": [
        "print(\"Maximum Value of ResponseTime(ms) is : \"+str(response_maxi))\n",
        "print(\"Minimum  Value of ResponseTime(ms) is : \"+str(response_mini))\n",
        "print(\"Differrence Value of ResponseTime(ms) is : \"+str(response_diff))"
      ],
      "execution_count": 14,
      "outputs": [
        {
          "output_type": "stream",
          "text": [
            "Maximum Value of ResponseTime(ms) is : 0.7\n",
            "Minimum  Value of ResponseTime(ms) is : 0.2\n",
            "Differrence Value of ResponseTime(ms) is : 0.5\n"
          ],
          "name": "stdout"
        }
      ]
    },
    {
      "cell_type": "code",
      "metadata": {
        "id": "TVrptLKsHKCh"
      },
      "source": [
        "\n",
        "tocode[\"Obtained Availability\"] = (tocode[\"Availability\"] - avail_mini)/avail_diff"
      ],
      "execution_count": 15,
      "outputs": []
    },
    {
      "cell_type": "code",
      "metadata": {
        "id": "yXupka2oNlEw"
      },
      "source": [
        "tocode[\"Obtained Reliability\"] = (tocode[\"Reliability\"] - relia_mini)/relia_diff"
      ],
      "execution_count": 16,
      "outputs": []
    },
    {
      "cell_type": "code",
      "metadata": {
        "id": "JAu6BEj5OClr"
      },
      "source": [
        "tocode[\"Obtained Cost\"] = (cost_maxi - tocode[\"Cost($)\"])/cost_diff"
      ],
      "execution_count": 17,
      "outputs": []
    },
    {
      "cell_type": "code",
      "metadata": {
        "id": "Mhkc7LpoPTfq"
      },
      "source": [
        "tocode[\"Obtained ResponseTime\"] = (response_maxi - tocode[\"Response Time(ms)\"])/response_diff"
      ],
      "execution_count": 20,
      "outputs": []
    },
    {
      "cell_type": "code",
      "metadata": {
        "id": "iw_Nvy83nwqD"
      },
      "source": [
        "tocode[\"Utility Score\"] =  tocode[\"Availability\"] + tocode[\"Reliability\"] + tocode[\"Cost($)\"] + tocode[\"Response Time(ms)\"]"
      ],
      "execution_count": 22,
      "outputs": []
    },
    {
      "cell_type": "code",
      "metadata": {
        "id": "xadZ08lDycGB"
      },
      "source": [
        "tocode[\"Grade Assessment\"] = tocode[\"Utility Score\"].rank(ascending = 0)"
      ],
      "execution_count": 23,
      "outputs": []
    },
    {
      "cell_type": "code",
      "metadata": {
        "id": "tVe7HQvQPxBp",
        "colab": {
          "base_uri": "https://localhost:8080/",
          "height": 774
        },
        "outputId": "72423e7c-3d5f-4329-a9d9-f3f6e9cf677c"
      },
      "source": [
        "tocode[\"Utility Score\"] = tocode[\"Obtained Availability\"] + tocode[\"Obtained ResponseTime\"] + tocode[\"Obtained Reliability\"] + tocode[\"Obtained Cost\"] \n",
        "tocode"
      ],
      "execution_count": 65,
      "outputs": [
        {
          "output_type": "execute_result",
          "data": {
            "text/html": [
              "<div>\n",
              "<style scoped>\n",
              "    .dataframe tbody tr th:only-of-type {\n",
              "        vertical-align: middle;\n",
              "    }\n",
              "\n",
              "    .dataframe tbody tr th {\n",
              "        vertical-align: top;\n",
              "    }\n",
              "\n",
              "    .dataframe thead th {\n",
              "        text-align: right;\n",
              "    }\n",
              "</style>\n",
              "<table border=\"1\" class=\"dataframe\">\n",
              "  <thead>\n",
              "    <tr style=\"text-align: right;\">\n",
              "      <th></th>\n",
              "      <th>SaaS_ID</th>\n",
              "      <th>Availability</th>\n",
              "      <th>Reliability</th>\n",
              "      <th>Cost($)</th>\n",
              "      <th>Response Time(ms)</th>\n",
              "      <th>Obtained Availability</th>\n",
              "      <th>Obtained Reliability</th>\n",
              "      <th>Obtained Cost</th>\n",
              "      <th>Obtained ResponseTime</th>\n",
              "      <th>Utility Score</th>\n",
              "      <th>Grade Assessment</th>\n",
              "    </tr>\n",
              "  </thead>\n",
              "  <tbody>\n",
              "    <tr>\n",
              "      <th>0</th>\n",
              "      <td>SP1</td>\n",
              "      <td>0.99988</td>\n",
              "      <td>0.99950</td>\n",
              "      <td>0.322</td>\n",
              "      <td>0.6</td>\n",
              "      <td>0.875000</td>\n",
              "      <td>0.000000</td>\n",
              "      <td>0.719403</td>\n",
              "      <td>0.2</td>\n",
              "      <td>1.794403</td>\n",
              "      <td>11.0</td>\n",
              "    </tr>\n",
              "    <tr>\n",
              "      <th>1</th>\n",
              "      <td>SP2</td>\n",
              "      <td>0.99968</td>\n",
              "      <td>0.99953</td>\n",
              "      <td>0.762</td>\n",
              "      <td>0.2</td>\n",
              "      <td>0.647727</td>\n",
              "      <td>0.071429</td>\n",
              "      <td>0.062687</td>\n",
              "      <td>1.0</td>\n",
              "      <td>1.781842</td>\n",
              "      <td>10.0</td>\n",
              "    </tr>\n",
              "    <tr>\n",
              "      <th>2</th>\n",
              "      <td>SP3</td>\n",
              "      <td>0.99935</td>\n",
              "      <td>0.99962</td>\n",
              "      <td>0.168</td>\n",
              "      <td>0.3</td>\n",
              "      <td>0.272727</td>\n",
              "      <td>0.285714</td>\n",
              "      <td>0.949254</td>\n",
              "      <td>0.8</td>\n",
              "      <td>2.307695</td>\n",
              "      <td>24.0</td>\n",
              "    </tr>\n",
              "    <tr>\n",
              "      <th>3</th>\n",
              "      <td>SP4</td>\n",
              "      <td>0.99988</td>\n",
              "      <td>0.99964</td>\n",
              "      <td>0.804</td>\n",
              "      <td>0.3</td>\n",
              "      <td>0.875000</td>\n",
              "      <td>0.333333</td>\n",
              "      <td>0.000000</td>\n",
              "      <td>0.8</td>\n",
              "      <td>2.008333</td>\n",
              "      <td>5.0</td>\n",
              "    </tr>\n",
              "    <tr>\n",
              "      <th>4</th>\n",
              "      <td>SP5</td>\n",
              "      <td>0.99959</td>\n",
              "      <td>0.99954</td>\n",
              "      <td>0.252</td>\n",
              "      <td>0.4</td>\n",
              "      <td>0.545455</td>\n",
              "      <td>0.095238</td>\n",
              "      <td>0.823881</td>\n",
              "      <td>0.6</td>\n",
              "      <td>2.064573</td>\n",
              "      <td>22.0</td>\n",
              "    </tr>\n",
              "    <tr>\n",
              "      <th>5</th>\n",
              "      <td>SP6</td>\n",
              "      <td>0.99963</td>\n",
              "      <td>0.99958</td>\n",
              "      <td>0.444</td>\n",
              "      <td>0.6</td>\n",
              "      <td>0.590909</td>\n",
              "      <td>0.190476</td>\n",
              "      <td>0.537313</td>\n",
              "      <td>0.2</td>\n",
              "      <td>1.518699</td>\n",
              "      <td>6.0</td>\n",
              "    </tr>\n",
              "    <tr>\n",
              "      <th>6</th>\n",
              "      <td>SP7</td>\n",
              "      <td>0.99939</td>\n",
              "      <td>0.99971</td>\n",
              "      <td>0.664</td>\n",
              "      <td>0.7</td>\n",
              "      <td>0.318182</td>\n",
              "      <td>0.500000</td>\n",
              "      <td>0.208955</td>\n",
              "      <td>0.0</td>\n",
              "      <td>1.027137</td>\n",
              "      <td>1.0</td>\n",
              "    </tr>\n",
              "    <tr>\n",
              "      <th>7</th>\n",
              "      <td>SP8</td>\n",
              "      <td>0.99918</td>\n",
              "      <td>0.99975</td>\n",
              "      <td>0.506</td>\n",
              "      <td>0.2</td>\n",
              "      <td>0.079545</td>\n",
              "      <td>0.595238</td>\n",
              "      <td>0.444776</td>\n",
              "      <td>1.0</td>\n",
              "      <td>2.119560</td>\n",
              "      <td>20.0</td>\n",
              "    </tr>\n",
              "    <tr>\n",
              "      <th>8</th>\n",
              "      <td>SP9</td>\n",
              "      <td>0.99995</td>\n",
              "      <td>0.99990</td>\n",
              "      <td>0.616</td>\n",
              "      <td>0.7</td>\n",
              "      <td>0.954545</td>\n",
              "      <td>0.952381</td>\n",
              "      <td>0.280597</td>\n",
              "      <td>0.0</td>\n",
              "      <td>2.187523</td>\n",
              "      <td>2.0</td>\n",
              "    </tr>\n",
              "    <tr>\n",
              "      <th>9</th>\n",
              "      <td>SP10</td>\n",
              "      <td>0.99958</td>\n",
              "      <td>0.99956</td>\n",
              "      <td>0.484</td>\n",
              "      <td>0.3</td>\n",
              "      <td>0.534091</td>\n",
              "      <td>0.142857</td>\n",
              "      <td>0.477612</td>\n",
              "      <td>0.8</td>\n",
              "      <td>1.954560</td>\n",
              "      <td>16.0</td>\n",
              "    </tr>\n",
              "    <tr>\n",
              "      <th>10</th>\n",
              "      <td>SP11</td>\n",
              "      <td>0.99945</td>\n",
              "      <td>0.99971</td>\n",
              "      <td>0.456</td>\n",
              "      <td>0.7</td>\n",
              "      <td>0.386364</td>\n",
              "      <td>0.500000</td>\n",
              "      <td>0.519403</td>\n",
              "      <td>0.0</td>\n",
              "      <td>1.405767</td>\n",
              "      <td>3.0</td>\n",
              "    </tr>\n",
              "    <tr>\n",
              "      <th>11</th>\n",
              "      <td>SP12</td>\n",
              "      <td>0.99981</td>\n",
              "      <td>0.99976</td>\n",
              "      <td>0.134</td>\n",
              "      <td>0.7</td>\n",
              "      <td>0.795455</td>\n",
              "      <td>0.619048</td>\n",
              "      <td>1.000000</td>\n",
              "      <td>0.0</td>\n",
              "      <td>2.414502</td>\n",
              "      <td>14.0</td>\n",
              "    </tr>\n",
              "    <tr>\n",
              "      <th>12</th>\n",
              "      <td>SP13</td>\n",
              "      <td>0.99911</td>\n",
              "      <td>0.99987</td>\n",
              "      <td>0.300</td>\n",
              "      <td>0.3</td>\n",
              "      <td>0.000000</td>\n",
              "      <td>0.880952</td>\n",
              "      <td>0.752239</td>\n",
              "      <td>0.8</td>\n",
              "      <td>2.433191</td>\n",
              "      <td>23.0</td>\n",
              "    </tr>\n",
              "    <tr>\n",
              "      <th>13</th>\n",
              "      <td>SP14</td>\n",
              "      <td>0.99924</td>\n",
              "      <td>0.99983</td>\n",
              "      <td>0.234</td>\n",
              "      <td>0.5</td>\n",
              "      <td>0.147727</td>\n",
              "      <td>0.785714</td>\n",
              "      <td>0.850746</td>\n",
              "      <td>0.4</td>\n",
              "      <td>2.184188</td>\n",
              "      <td>19.0</td>\n",
              "    </tr>\n",
              "    <tr>\n",
              "      <th>14</th>\n",
              "      <td>SP15</td>\n",
              "      <td>0.99912</td>\n",
              "      <td>0.99980</td>\n",
              "      <td>0.496</td>\n",
              "      <td>0.5</td>\n",
              "      <td>0.011364</td>\n",
              "      <td>0.714286</td>\n",
              "      <td>0.459701</td>\n",
              "      <td>0.4</td>\n",
              "      <td>1.585351</td>\n",
              "      <td>8.0</td>\n",
              "    </tr>\n",
              "    <tr>\n",
              "      <th>15</th>\n",
              "      <td>SP16</td>\n",
              "      <td>0.99948</td>\n",
              "      <td>0.99973</td>\n",
              "      <td>0.454</td>\n",
              "      <td>0.3</td>\n",
              "      <td>0.420455</td>\n",
              "      <td>0.547619</td>\n",
              "      <td>0.522388</td>\n",
              "      <td>0.8</td>\n",
              "      <td>2.290462</td>\n",
              "      <td>17.0</td>\n",
              "    </tr>\n",
              "    <tr>\n",
              "      <th>16</th>\n",
              "      <td>SP17</td>\n",
              "      <td>0.99952</td>\n",
              "      <td>0.99967</td>\n",
              "      <td>0.638</td>\n",
              "      <td>0.5</td>\n",
              "      <td>0.465909</td>\n",
              "      <td>0.404762</td>\n",
              "      <td>0.247761</td>\n",
              "      <td>0.4</td>\n",
              "      <td>1.518432</td>\n",
              "      <td>4.0</td>\n",
              "    </tr>\n",
              "    <tr>\n",
              "      <th>17</th>\n",
              "      <td>SP18</td>\n",
              "      <td>0.99999</td>\n",
              "      <td>0.99962</td>\n",
              "      <td>0.478</td>\n",
              "      <td>0.2</td>\n",
              "      <td>1.000000</td>\n",
              "      <td>0.285714</td>\n",
              "      <td>0.486567</td>\n",
              "      <td>1.0</td>\n",
              "      <td>2.772281</td>\n",
              "      <td>21.0</td>\n",
              "    </tr>\n",
              "    <tr>\n",
              "      <th>18</th>\n",
              "      <td>SP19</td>\n",
              "      <td>0.99944</td>\n",
              "      <td>0.99975</td>\n",
              "      <td>0.674</td>\n",
              "      <td>0.3</td>\n",
              "      <td>0.375000</td>\n",
              "      <td>0.595238</td>\n",
              "      <td>0.194030</td>\n",
              "      <td>0.8</td>\n",
              "      <td>1.964268</td>\n",
              "      <td>9.0</td>\n",
              "    </tr>\n",
              "    <tr>\n",
              "      <th>19</th>\n",
              "      <td>SP20</td>\n",
              "      <td>0.99943</td>\n",
              "      <td>0.99972</td>\n",
              "      <td>0.414</td>\n",
              "      <td>0.5</td>\n",
              "      <td>0.363636</td>\n",
              "      <td>0.523810</td>\n",
              "      <td>0.582090</td>\n",
              "      <td>0.4</td>\n",
              "      <td>1.869535</td>\n",
              "      <td>12.0</td>\n",
              "    </tr>\n",
              "    <tr>\n",
              "      <th>20</th>\n",
              "      <td>SP21</td>\n",
              "      <td>0.99987</td>\n",
              "      <td>0.99957</td>\n",
              "      <td>0.392</td>\n",
              "      <td>0.5</td>\n",
              "      <td>0.863636</td>\n",
              "      <td>0.166667</td>\n",
              "      <td>0.614925</td>\n",
              "      <td>0.4</td>\n",
              "      <td>2.045228</td>\n",
              "      <td>13.0</td>\n",
              "    </tr>\n",
              "    <tr>\n",
              "      <th>21</th>\n",
              "      <td>SP22</td>\n",
              "      <td>0.99959</td>\n",
              "      <td>0.99977</td>\n",
              "      <td>0.544</td>\n",
              "      <td>0.2</td>\n",
              "      <td>0.545455</td>\n",
              "      <td>0.642857</td>\n",
              "      <td>0.388060</td>\n",
              "      <td>1.0</td>\n",
              "      <td>2.576371</td>\n",
              "      <td>18.0</td>\n",
              "    </tr>\n",
              "    <tr>\n",
              "      <th>22</th>\n",
              "      <td>SP23</td>\n",
              "      <td>0.99970</td>\n",
              "      <td>0.99952</td>\n",
              "      <td>0.408</td>\n",
              "      <td>0.4</td>\n",
              "      <td>0.670455</td>\n",
              "      <td>0.047619</td>\n",
              "      <td>0.591045</td>\n",
              "      <td>0.6</td>\n",
              "      <td>1.909118</td>\n",
              "      <td>15.0</td>\n",
              "    </tr>\n",
              "    <tr>\n",
              "      <th>23</th>\n",
              "      <td>SP24</td>\n",
              "      <td>0.99999</td>\n",
              "      <td>0.99992</td>\n",
              "      <td>0.508</td>\n",
              "      <td>0.5</td>\n",
              "      <td>1.000000</td>\n",
              "      <td>1.000000</td>\n",
              "      <td>0.441791</td>\n",
              "      <td>0.4</td>\n",
              "      <td>2.841791</td>\n",
              "      <td>7.0</td>\n",
              "    </tr>\n",
              "  </tbody>\n",
              "</table>\n",
              "</div>"
            ],
            "text/plain": [
              "   SaaS_ID  Availability  ...  Utility Score  Grade Assessment\n",
              "0      SP1       0.99988  ...       1.794403              11.0\n",
              "1      SP2       0.99968  ...       1.781842              10.0\n",
              "2      SP3       0.99935  ...       2.307695              24.0\n",
              "3      SP4       0.99988  ...       2.008333               5.0\n",
              "4      SP5       0.99959  ...       2.064573              22.0\n",
              "5      SP6       0.99963  ...       1.518699               6.0\n",
              "6      SP7       0.99939  ...       1.027137               1.0\n",
              "7      SP8       0.99918  ...       2.119560              20.0\n",
              "8      SP9       0.99995  ...       2.187523               2.0\n",
              "9     SP10       0.99958  ...       1.954560              16.0\n",
              "10    SP11       0.99945  ...       1.405767               3.0\n",
              "11    SP12       0.99981  ...       2.414502              14.0\n",
              "12    SP13       0.99911  ...       2.433191              23.0\n",
              "13    SP14       0.99924  ...       2.184188              19.0\n",
              "14    SP15       0.99912  ...       1.585351               8.0\n",
              "15    SP16       0.99948  ...       2.290462              17.0\n",
              "16    SP17       0.99952  ...       1.518432               4.0\n",
              "17    SP18       0.99999  ...       2.772281              21.0\n",
              "18    SP19       0.99944  ...       1.964268               9.0\n",
              "19    SP20       0.99943  ...       1.869535              12.0\n",
              "20    SP21       0.99987  ...       2.045228              13.0\n",
              "21    SP22       0.99959  ...       2.576371              18.0\n",
              "22    SP23       0.99970  ...       1.909118              15.0\n",
              "23    SP24       0.99999  ...       2.841791               7.0\n",
              "\n",
              "[24 rows x 11 columns]"
            ]
          },
          "metadata": {
            "tags": []
          },
          "execution_count": 65
        }
      ]
    },
    {
      "cell_type": "code",
      "metadata": {
        "colab": {
          "base_uri": "https://localhost:8080/",
          "height": 499
        },
        "id": "z9qc5Z6KjEjy",
        "outputId": "0545f40e-2ad7-4ac0-f80a-33b196625aaf"
      },
      "source": [
        "barWidth = 0.5\r\n",
        "fig = plt.subplots(figsize =(12, 8)) \r\n",
        "   \r\n",
        "# set height of bar \r\n",
        "Availability = tocode[\"Obtained Availability\"] \r\n",
        "Reliability = tocode[\"Obtained Reliability\"]\r\n",
        "\r\n",
        "   \r\n",
        "# Set position of bar on X axis \r\n",
        "br1 = np.arange(len(Reliability)) \r\n",
        "br2 = [x + barWidth for x in br1] \r\n",
        "br3 = [x + barWidth for x in br2] \r\n",
        "   \r\n",
        "# Make the plot \r\n",
        "plt.bar(br1, Availability, color ='#ADD8E6', width = barWidth, \r\n",
        "        label ='Availability') \r\n",
        "plt.bar(br2, Reliability, color ='#A52A2A', width = barWidth, \r\n",
        "        edgecolor ='grey', label ='Reliability') \r\n",
        "\r\n",
        "plt.title(\"Auditor  Assessment  of Service Providers\")\r\n",
        "# Adding Xticks  \r\n",
        "plt.xlabel('', fontweight ='bold') \r\n",
        "plt.ylabel('', fontweight ='bold') \r\n",
        "plt.xticks([r + barWidth for r in range(len(Reliability))], \r\n",
        "           tocode[\"SaaS_ID\"]) \r\n",
        "plt.legend()\r\n",
        "\r\n",
        "plt.show() \r\n"
      ],
      "execution_count": 115,
      "outputs": [
        {
          "output_type": "display_data",
          "data": {
            "image/png": "[encoded data removed]",
            "text/plain": [
              "<Figure size 864x576 with 1 Axes>"
            ]
          },
          "metadata": {
            "tags": [],
            "needs_background": "light"
          }
        }
      ]
    },
    {
      "cell_type": "code",
      "metadata": {
        "colab": {
          "base_uri": "https://localhost:8080/",
          "height": 499
        },
        "id": "vDuUcPeYXB3D",
        "outputId": "d8c0cd76-ce2e-432d-97e3-b048292668d2"
      },
      "source": [
        "barWidth = 0.5\r\n",
        "fig = plt.subplots(figsize =(12, 8)) \r\n",
        "   \r\n",
        "# set height of bar \r\n",
        "Cost = tocode[\"Obtained Cost\"] \r\n",
        "Response_Time = tocode[\"Obtained ResponseTime\"]\r\n",
        "\r\n",
        "   \r\n",
        "# Set position of bar on X axis \r\n",
        "br1 = np.arange(len(Reliability)) \r\n",
        "br2 = [x + barWidth for x in br1] \r\n",
        "br3 = [x + barWidth for x in br2] \r\n",
        "   \r\n",
        "# Make the plot \r\n",
        "plt.bar(br1, Cost, color ='#ADD8E6', width = barWidth, \r\n",
        "        label ='Cost($)') \r\n",
        "plt.bar(br2, Response_Time, color ='#A52A2A', width = barWidth, \r\n",
        "        edgecolor ='grey', label ='Response Time(ms)') \r\n",
        "\r\n",
        "plt.title(\"Auditor  Assessment  of Service Providers\")\r\n",
        "# Adding Xticks  \r\n",
        "plt.xlabel('', fontweight ='bold') \r\n",
        "plt.ylabel('', fontweight ='bold') \r\n",
        "plt.xticks([r + barWidth for r in range(len(Response_Time))], \r\n",
        "           tocode[\"SaaS_ID\"]) \r\n",
        "plt.legend()\r\n",
        "\r\n",
        "plt.show() \r\n"
      ],
      "execution_count": 120,
      "outputs": [
        {
          "output_type": "display_data",
          "data": {
            "image/png": "[encoded data removed]",
            "text/plain": [
              "<Figure size 864x576 with 1 Axes>"
            ]
          },
          "metadata": {
            "tags": [],
            "needs_background": "light"
          }
        }
      ]
    },
    {
      "cell_type": "code",
      "metadata": {
        "colab": {
          "base_uri": "https://localhost:8080/",
          "height": 499
        },
        "id": "8PHM_eB0YHL1",
        "outputId": "a50ba28e-3375-40e9-cb77-d5089dde30c9"
      },
      "source": [
        "barWidth = 0.5\r\n",
        "fig = plt.subplots(figsize =(12, 8)) \r\n",
        "   \r\n",
        "# set height of bar \r\n",
        "Cost = tocode[\"Obtained Cost\"] \r\n",
        "Utility_Score = tocode[\"Utility Score\"]\r\n",
        "\r\n",
        "   \r\n",
        "# Set position of bar on X axis \r\n",
        "br1 = np.arange(len(Reliability)) \r\n",
        "br2 = [x + barWidth for x in br1] \r\n",
        "br3 = [x + barWidth for x in br2] \r\n",
        "   \r\n",
        "# Make the plot \r\n",
        "plt.bar(br1, Cost, color ='#ADD8E6', width = barWidth, \r\n",
        "        label ='Cost($)') \r\n",
        "plt.bar(br2, Utility_Score, color ='#A52A2A', width = barWidth, \r\n",
        "        edgecolor ='grey', label ='Utility Score') \r\n",
        "\r\n",
        "plt.title(\"Comparison of Cost towards Utility Score of Service Providers\")\r\n",
        "# Adding Xticks  \r\n",
        "plt.xlabel('', fontweight ='bold') \r\n",
        "plt.ylabel('', fontweight ='bold') \r\n",
        "plt.xticks([r + barWidth for r in range(len(Response_Time))], \r\n",
        "           tocode[\"SaaS_ID\"]) \r\n",
        "plt.legend()\r\n",
        "\r\n",
        "plt.show() \r\n"
      ],
      "execution_count": 138,
      "outputs": [
        {
          "output_type": "display_data",
          "data": {
            "image/png": "[encoded data removed]",
            "text/plain": [
              "<Figure size 864x576 with 1 Axes>"
            ]
          },
          "metadata": {
            "tags": [],
            "needs_background": "light"
          }
        }
      ]
    },
    {
      "cell_type": "code",
      "metadata": {
        "colab": {
          "base_uri": "https://localhost:8080/",
          "height": 499
        },
        "id": "aS1oQWltYbYu",
        "outputId": "153137e6-45cc-436b-d040-8e716354b4f7"
      },
      "source": [
        "barWidth = 0.5\r\n",
        "fig = plt.subplots(figsize =(12, 8)) \r\n",
        "   \r\n",
        "# set height of bar \r\n",
        "Cost = tocode[\"Obtained Cost\"] \r\n",
        "Utility_Score = tocode[\"Utility Score\"]\r\n",
        "\r\n",
        "X = np.arange(len(tocode[\"SaaS_ID\"]))\r\n",
        "\r\n",
        "   \r\n",
        "# Set position of bar on X axis \r\n",
        "br1 = np.arange(len(Utility_Score)) \r\n",
        "br2 = [x + barWidth for x in br1] \r\n",
        "br3 = [x + barWidth for x in br2] \r\n",
        "   \r\n",
        "# Make the plot \r\n",
        "\r\n",
        "plt.bar(br2, Utility_Score, color ='#A52A2A', width = barWidth, \r\n",
        "        edgecolor ='black', label ='Utility Score') \r\n",
        "\r\n",
        "plt.title(\"Utility Score of Service Providers\")\r\n",
        "# Adding Xticks  \r\n",
        "plt.xlabel('', fontweight ='bold') \r\n",
        "plt.ylabel('', fontweight ='bold') \r\n",
        "plt.xticks([r + barWidth for r in range(len(Response_Time))], \r\n",
        "           tocode[\"SaaS_ID\"]) \r\n",
        "plt.legend()\r\n",
        "plt.show() \r\n"
      ],
      "execution_count": 130,
      "outputs": [
        {
          "output_type": "display_data",
          "data": {
            "image/png": "[encoded data removed]",
            "text/plain": [
              "<Figure size 864x576 with 1 Axes>"
            ]
          },
          "metadata": {
            "tags": [],
            "needs_background": "light"
          }
        }
      ]
    }
  ]
}